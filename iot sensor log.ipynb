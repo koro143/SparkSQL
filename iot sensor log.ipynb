{
 "cells": [
  {
   "cell_type": "markdown",
   "metadata": {},
   "source": [
    "##### Import Package"
   ]
  },
  {
   "cell_type": "code",
   "execution_count": 1,
   "metadata": {},
   "outputs": [],
   "source": [
    "from pyspark.sql.types import StringType, StructType, StructField"
   ]
  },
  {
   "cell_type": "markdown",
   "metadata": {},
   "source": [
    "##### Import Raw Data"
   ]
  },
  {
   "cell_type": "code",
   "execution_count": 2,
   "metadata": {
    "scrolled": false
   },
   "outputs": [],
   "source": [
    "# Path to our 20 JSON files\n",
    "inputPath = \"D:/Data/Files/spark/spark-streaming-sample-data/\""
   ]
  },
  {
   "cell_type": "markdown",
   "metadata": {},
   "source": [
    "##### Set Schema"
   ]
  },
  {
   "cell_type": "code",
   "execution_count": 3,
   "metadata": {},
   "outputs": [],
   "source": [
    "# Explicitly set schema\n",
    "schema = StructType([ StructField(\"time\", StringType(), True),\n",
    "                      StructField(\"customer\", StringType(), True),\n",
    "                      StructField(\"action\", StringType(), True),\n",
    "                      StructField(\"device\", StringType(), True)])"
   ]
  },
  {
   "cell_type": "markdown",
   "metadata": {},
   "source": [
    "##### Read Raw Data"
   ]
  },
  {
   "cell_type": "code",
   "execution_count": 4,
   "metadata": {},
   "outputs": [],
   "source": [
    "# Create DataFrame representing data in the JSON files\n",
    "inputDF = (\n",
    "  spark\n",
    "    .read\n",
    "    .schema(schema)\n",
    "    .json(inputPath)\n",
    ")"
   ]
  },
  {
   "cell_type": "markdown",
   "metadata": {},
   "source": [
    "##### Display Data"
   ]
  },
  {
   "cell_type": "code",
   "execution_count": 5,
   "metadata": {},
   "outputs": [
    {
     "name": "stdout",
     "output_type": "stream",
     "text": [
      "+---------------+--------------------+-----------+--------------------+\n",
      "|           time|            customer|     action|              device|\n",
      "+---------------+--------------------+-----------+--------------------+\n",
      "|           null|                null|       null|                null|\n",
      "|10:59:46.000 AM|Stafford Blakebrough|   power on|  GreenIQ Controller|\n",
      "| 6:26:36.000 PM|      Alex Woolcocks|   power on|Nest T3021US Ther...|\n",
      "| 4:46:28.000 AM|      Clarice Nayshe|   power on|Footbot Air Quali...|\n",
      "| 8:58:43.000 AM|      Killie Pirozzi|  power off|Footbot Air Quali...|\n",
      "| 4:20:49.000 PM|    Lynne Dymidowicz|   power on|Footbot Air Quali...|\n",
      "| 3:41:33.000 AM|       Shaina Dowyer|   power on|             ecobee4|\n",
      "|10:40:24.000 PM|       Barbee Melato|low battery| August Doorbell Cam|\n",
      "|11:13:38.000 PM|        Clem Westcot|  power off|Nest T3021US Ther...|\n",
      "|10:12:15.000 PM|       Kerri Galfour|  power off|         Amazon Echo|\n",
      "|11:04:41.000 AM|        Trev Ashmore|low battery|  GreenIQ Controller|\n",
      "| 3:06:31.000 AM|      Coral Jahnisch|   power on| August Doorbell Cam|\n",
      "| 2:49:02.000 AM|      Feliza Cowdrey|   power on|Nest T3021US Ther...|\n",
      "|12:11:59.000 PM|   Amabelle De Haven|  power off|Footbot Air Quali...|\n",
      "| 3:57:39.000 AM|     Benton Redbourn|  power off|Nest T3021US Ther...|\n",
      "| 1:34:44.000 AM|        Asher Potten|low battery| August Doorbell Cam|\n",
      "| 7:26:42.000 PM|    Lorianne Hullyer|low battery| August Doorbell Cam|\n",
      "| 3:54:49.000 AM|     Ruperto Aldcorn|  power off|Footbot Air Quali...|\n",
      "| 7:15:20.000 AM|   Agatha Di Giacomo|   power on|Footbot Air Quali...|\n",
      "|11:14:14.000 PM|    Eunice Penwright|   power on|             ecobee4|\n",
      "+---------------+--------------------+-----------+--------------------+\n",
      "only showing top 20 rows\n",
      "\n"
     ]
    }
   ],
   "source": [
    "#display(inputDF)\n",
    "inputDF.show()"
   ]
  },
  {
   "cell_type": "markdown",
   "metadata": {},
   "source": [
    "##### Clean1 : Drop N/A"
   ]
  },
  {
   "cell_type": "code",
   "execution_count": 6,
   "metadata": {
    "scrolled": true
   },
   "outputs": [
    {
     "name": "stdout",
     "output_type": "stream",
     "text": [
      "+---------------+--------------------+-----------+--------------------+\n",
      "|           time|            customer|     action|              device|\n",
      "+---------------+--------------------+-----------+--------------------+\n",
      "|10:59:46.000 AM|Stafford Blakebrough|   power on|  GreenIQ Controller|\n",
      "| 6:26:36.000 PM|      Alex Woolcocks|   power on|Nest T3021US Ther...|\n",
      "| 4:46:28.000 AM|      Clarice Nayshe|   power on|Footbot Air Quali...|\n",
      "| 8:58:43.000 AM|      Killie Pirozzi|  power off|Footbot Air Quali...|\n",
      "| 4:20:49.000 PM|    Lynne Dymidowicz|   power on|Footbot Air Quali...|\n",
      "| 3:41:33.000 AM|       Shaina Dowyer|   power on|             ecobee4|\n",
      "|10:40:24.000 PM|       Barbee Melato|low battery| August Doorbell Cam|\n",
      "|11:13:38.000 PM|        Clem Westcot|  power off|Nest T3021US Ther...|\n",
      "|10:12:15.000 PM|       Kerri Galfour|  power off|         Amazon Echo|\n",
      "|11:04:41.000 AM|        Trev Ashmore|low battery|  GreenIQ Controller|\n",
      "| 3:06:31.000 AM|      Coral Jahnisch|   power on| August Doorbell Cam|\n",
      "| 2:49:02.000 AM|      Feliza Cowdrey|   power on|Nest T3021US Ther...|\n",
      "|12:11:59.000 PM|   Amabelle De Haven|  power off|Footbot Air Quali...|\n",
      "| 3:57:39.000 AM|     Benton Redbourn|  power off|Nest T3021US Ther...|\n",
      "| 1:34:44.000 AM|        Asher Potten|low battery| August Doorbell Cam|\n",
      "| 7:26:42.000 PM|    Lorianne Hullyer|low battery| August Doorbell Cam|\n",
      "| 3:54:49.000 AM|     Ruperto Aldcorn|  power off|Footbot Air Quali...|\n",
      "| 7:15:20.000 AM|   Agatha Di Giacomo|   power on|Footbot Air Quali...|\n",
      "|11:14:14.000 PM|    Eunice Penwright|   power on|             ecobee4|\n",
      "| 8:27:26.000 AM|    Farrand Fickling|   power on|Nest T3021US Ther...|\n",
      "+---------------+--------------------+-----------+--------------------+\n",
      "only showing top 20 rows\n",
      "\n"
     ]
    }
   ],
   "source": [
    "# Remove empty rows\n",
    "inputDF = inputDF.dropna()\n",
    "inputDF.show()"
   ]
  },
  {
   "cell_type": "markdown",
   "metadata": {},
   "source": [
    "##### Create View name \"iot_sensor\""
   ]
  },
  {
   "cell_type": "code",
   "execution_count": 7,
   "metadata": {},
   "outputs": [],
   "source": [
    "# Create temp table named 'iot_sensor'\n",
    "inputDF.createOrReplaceTempView(\"iot_sensor\")"
   ]
  },
  {
   "cell_type": "markdown",
   "metadata": {},
   "source": [
    "##### Query Unique Customer Name From \"iot_sensor\"\n",
    "##### Set variable as \"customerName\""
   ]
  },
  {
   "cell_type": "code",
   "execution_count": 8,
   "metadata": {
    "scrolled": true
   },
   "outputs": [
    {
     "name": "stdout",
     "output_type": "stream",
     "text": [
      "+------------------+\n",
      "|          customer|\n",
      "+------------------+\n",
      "|   Aaren Senescall|\n",
      "|    Abelard Bliven|\n",
      "|  Ailbert Laverick|\n",
      "|    Ailis Killoran|\n",
      "|  Alphonse Dooland|\n",
      "|   Ambrosio Rayson|\n",
      "|     Arther Drever|\n",
      "|  Ashlee Delacroix|\n",
      "|Batsheva Olrenshaw|\n",
      "|     Beulah Leitch|\n",
      "|      Boyce Lorand|\n",
      "|   Brewster Currum|\n",
      "|   Calley Wheildon|\n",
      "|      Carilyn Rolf|\n",
      "|       Carl Hughes|\n",
      "|   Claudia Puttock|\n",
      "|Constance McGunley|\n",
      "|       Cordy Pluck|\n",
      "|  Corinna Fruchter|\n",
      "|   Courtnay Wilber|\n",
      "+------------------+\n",
      "only showing top 20 rows\n",
      "\n"
     ]
    }
   ],
   "source": [
    "customersName = spark.sql(\"select distinct(customer) from iot_sensor sort by customer asc \")\n",
    "customersName.show()"
   ]
  },
  {
   "cell_type": "markdown",
   "metadata": {},
   "source": [
    "##### Query number of Customer\n",
    "##### Set variable as \"customerNum\""
   ]
  },
  {
   "cell_type": "code",
   "execution_count": 9,
   "metadata": {
    "scrolled": true
   },
   "outputs": [
    {
     "name": "stdout",
     "output_type": "stream",
     "text": [
      "+--------------------+------------------+\n",
      "|       Customer Name|Number of Customer|\n",
      "+--------------------+------------------+\n",
      "|     Shirleen Kinvig|                 2|\n",
      "|Cleveland Southerden|                 1|\n",
      "|     Sinclare Golson|                 1|\n",
      "|            Fan Gude|                 1|\n",
      "|   Kiersten O'Fihily|                 1|\n",
      "|      Yelena Whewell|                 1|\n",
      "|Adamo Oosthout de...|                 1|\n",
      "|        Ilise Dufaur|                 1|\n",
      "|      Dulcie Agutter|                 1|\n",
      "|          Fan Kenney|                 1|\n",
      "|          Ryon Rubel|                 1|\n",
      "|       Corrie Thomas|                 1|\n",
      "|    Delbert Ferretti|                 1|\n",
      "|         Lemmie Oake|                 1|\n",
      "|       Pinchas Isaac|                 1|\n",
      "|          Car Newlin|                 1|\n",
      "|         Haven Maase|                 1|\n",
      "|    Kakalina Lehrian|                 1|\n",
      "|     Blair Grinikhin|                 1|\n",
      "|    Sissie Harrowell|                 1|\n",
      "+--------------------+------------------+\n",
      "only showing top 20 rows\n",
      "\n"
     ]
    }
   ],
   "source": [
    "customersNum = spark.sql(\"select customer as `Customer Name`,count(customer) as `Number of Customer` from iot_sensor group by 1 order by 2 desc\")\n",
    "customersNum.show()"
   ]
  },
  {
   "cell_type": "code",
   "execution_count": 10,
   "metadata": {},
   "outputs": [
    {
     "name": "stdout",
     "output_type": "stream",
     "text": [
      "+------------------+\n",
      "|Number of Customer|\n",
      "+------------------+\n",
      "|             19979|\n",
      "+------------------+\n",
      "\n"
     ]
    }
   ],
   "source": [
    "customersUniq = spark.sql(\"select count(distinct(customer)) as `Number of Customer` from iot_sensor\")\n",
    "customersUniq.show()"
   ]
  },
  {
   "cell_type": "markdown",
   "metadata": {},
   "source": [
    "##### Query Device Name \n",
    "##### Set variable as \"deviceName\""
   ]
  },
  {
   "cell_type": "code",
   "execution_count": 11,
   "metadata": {},
   "outputs": [
    {
     "name": "stdout",
     "output_type": "stream",
     "text": [
      "+--------------------+\n",
      "|              device|\n",
      "+--------------------+\n",
      "|Nest T3021US Ther...|\n",
      "|Footbot Air Quali...|\n",
      "|             ecobee4|\n",
      "|  GreenIQ Controller|\n",
      "|         Amazon Echo|\n",
      "| August Doorbell Cam|\n",
      "+--------------------+\n",
      "\n"
     ]
    }
   ],
   "source": [
    "deviceName = spark.sql(\"select distinct(device) from iot_sensor\")\n",
    "deviceName.show()"
   ]
  },
  {
   "cell_type": "markdown",
   "metadata": {},
   "source": [
    "##### Query number of Device\n",
    "##### Set variable as \"deviceNum\""
   ]
  },
  {
   "cell_type": "code",
   "execution_count": 12,
   "metadata": {
    "scrolled": true
   },
   "outputs": [
    {
     "name": "stdout",
     "output_type": "stream",
     "text": [
      "+--------------------+----------------+\n",
      "|         Device Name|Number of Device|\n",
      "+--------------------+----------------+\n",
      "|Nest T3021US Ther...|            3222|\n",
      "|Footbot Air Quali...|            3399|\n",
      "|             ecobee4|            3175|\n",
      "|  GreenIQ Controller|            3445|\n",
      "|         Amazon Echo|            3308|\n",
      "| August Doorbell Cam|            3431|\n",
      "+--------------------+----------------+\n",
      "\n"
     ]
    }
   ],
   "source": [
    "deviceNum = spark.sql(\"select device as `Device Name`, count(device) as `Number of Device` from iot_sensor group by device\")\n",
    "deviceNum.show()"
   ]
  },
  {
   "cell_type": "code",
   "execution_count": 13,
   "metadata": {},
   "outputs": [],
   "source": [
    "# Create streaming equivalent of `inputDF` using .readStream\n",
    "streamingDF = (\n",
    "  spark\n",
    "    .readStream\n",
    "    .schema(schema)\n",
    "    .option(\"maxFilesPerTrigger\", 1)\n",
    "    .json(inputPath)\n",
    ")"
   ]
  },
  {
   "cell_type": "code",
   "execution_count": 14,
   "metadata": {},
   "outputs": [],
   "source": [
    "# Stream `streamingDF` while aggregating by action\n",
    "streamingActionCountsDF = (\n",
    "  streamingDF\n",
    "    .groupBy(\n",
    "      streamingDF.action\n",
    "    )\n",
    "    .count()\n",
    ")"
   ]
  },
  {
   "cell_type": "code",
   "execution_count": 15,
   "metadata": {},
   "outputs": [
    {
     "data": {
      "text/plain": [
       "True"
      ]
     },
     "execution_count": 15,
     "metadata": {},
     "output_type": "execute_result"
    }
   ],
   "source": [
    "# Is `streamingActionCountsDF` actually streaming?\n",
    "streamingActionCountsDF.isStreaming"
   ]
  }
 ],
 "metadata": {
  "kernelspec": {
   "display_name": "Python 3",
   "language": "python",
   "name": "python3"
  },
  "language_info": {
   "codemirror_mode": {
    "name": "ipython",
    "version": 3
   },
   "file_extension": ".py",
   "mimetype": "text/x-python",
   "name": "python",
   "nbconvert_exporter": "python",
   "pygments_lexer": "ipython3",
   "version": "3.7.6"
  }
 },
 "nbformat": 4,
 "nbformat_minor": 4
}
